{
 "cells": [
  {
   "cell_type": "markdown",
   "id": "3a821b9e-8823-47cd-811d-fb503a889c82",
   "metadata": {
    "tags": []
   },
   "source": [
    "# visualizeKraken2\n",
    "\n",
    "version = beta0.8\n",
    "\n",
    "2022.11.25"
   ]
  },
  {
   "cell_type": "markdown",
   "id": "b1d775bd-d5e7-4e97-82fa-f41513abecd9",
   "metadata": {},
   "source": [
    "\n",
    "INTRODUCTION\n",
    "\n",
    "visualizeKraken2 produces graphs and visualizations of the taxonomic composition of metagenomic analyses performed in Kraken 2. visualizeKraken2 can produce a circular sunburst plot, an icicle chart or a ranked list of species/taxons. The plots approximate abundance of the taxons by displaying the percent count for each taxon, meaning the proportion of the total counts in the analysis belonging to each specific taxon. The count for a taxon is the number of sequences in the original multifasta file assigned to that specific taxon by Kraken 2. \n",
    "\n",
    "\n",
    "KRAKEN 2 OUTPUT FILES\n",
    "\n",
    "Kraken 2 reads a mulitfasta file from a metagenomic sample and produces two types of files, a report variety with a .kreport extension, and a text file with a .kraken2 extension. The input for visualizeKraken2 is the text file variety. This file type contains columns with information about the analyzed sample: which sequences were successfully classified, and which taxonomy IDs they map to. Kraken 2 aims to find the Lowest Common Ancestor (LCA) among all candidates for each sequence, meaning it tries to go as far down the taxonomy tree as possible. Sometimes, however, there is not enough information to pinpoint species or genus, and the algorithm simply adds the lowest taxonomy rank that the information in the sequence allows for. The result is that the ID assigned by Kraken is the Lowest Common Ancestor of all the candidate taxons mapped to a certain sequence. \n",
    "\n",
    "\n",
    "VISUALIZEKRAKEN2\n",
    "\n",
    "visualizeKraken2 maps these IDs to the NCBI taxonomy database, extracting the name of the LCAs and their full taxonomic hierarchy or lineage. It also counts how many times a certain taxon, or LCA, was found by Kraken 2 and uses this information to produce plots where an approximation of taxon abundance can be seen. \n",
    "\n",
    "The root node of the NCBI taxonomy tree is called \"root\" and Kraken 2 often assigns this ID if there is not enough information in a sequence to determine anything about the organism. Since a \"root\" designation tells us nothing more than that the sequence contains nucleotides, and does not even differentiate between prokaryotes and eukaryotes, visualizeKraken2 removes these entries and displays a message to the user that a \"root\" entry has been removed and the number of counts assigned to this entry.\n",
    "\n",
    "If an entry has been assigned an ID that does not exist in the NCBI database, visualizeKraken2 outputs a message to the user that the ID was not found, after which it is removed from the analysis.\n",
    "\n",
    "\n",
    "The following python packages are used by the application and need to be installed and functioning properly:\n",
    "\n",
    "numpy, pandas, plotly, time, os, shutil, ftplib, zipfile, re\n",
    "\n",
    "The files beloning to this application are:\n",
    "\n",
    "- A readme file, containing the same information as here\n",
    "\n",
    "- visualizeKraken2.ipynb: the main jupyter file that the program is run from\n",
    "\n",
    "- startupFunctions.py: contains the functions needed to download and build the taxonomy database\n",
    "- krakViewClass.py: the main class containing the functions needed to perform the visualizations\n",
    "- four example files called 'creek_water.kraken2', 'endotracheal.kraken2', 'fecal.kraken2' and 'raw_sewage.kraken2'. These are output files from Kraken 2 analyses and can be used to familiarize yourself with the application.\n",
    "\n",
    "These files should be placed in the same folder for the program to run properly. The program is designed to be run as a jupyter notebook. The main jupyter script is a template for the various functions and methods that are included in the program. Any number of analyses can be run in the same script, alternatively copies of the jupyter file can be made and modified to make notebooks dedicated to a single analysis. Any file to be run in visualizeKraken2 should also be placed in this same directory, unless the full path is specified when loading the file."
   ]
  },
  {
   "cell_type": "markdown",
   "id": "956221b1-2746-4bfd-88a0-c013c8fcd6ba",
   "metadata": {
    "tags": []
   },
   "source": [
    "### Startup functions"
   ]
  },
  {
   "cell_type": "code",
   "execution_count": null,
   "id": "d7394da4-e8d1-4e97-aec9-a28429f432e8",
   "metadata": {},
   "outputs": [],
   "source": [
    "from startupFunctions import downloadDatabase, buildDatabase"
   ]
  },
  {
   "cell_type": "markdown",
   "id": "7dc3de42-72b7-49bb-9ebb-80a69a8b7dfe",
   "metadata": {},
   "source": [
    "This imports the custom functions needed to download and build the database."
   ]
  },
  {
   "cell_type": "code",
   "execution_count": null,
   "id": "b5f9d0fe-cc57-40c9-a3ad-8f757dd358eb",
   "metadata": {},
   "outputs": [],
   "source": [
    "dbLocalDir = \"downloaded_NCBI_taxonomy_database\" "
   ]
  },
  {
   "cell_type": "markdown",
   "id": "4817a605-2099-4933-8e2c-6fc06cd7d0d4",
   "metadata": {},
   "source": [
    "This is the folder where the NCBI data will be stored. This can be changed if you prefer another folder name."
   ]
  },
  {
   "cell_type": "code",
   "execution_count": null,
   "id": "6c8ab9f2-9f83-4a2e-ad27-e8bbb66f753d",
   "metadata": {},
   "outputs": [],
   "source": [
    "NCBIdbFile = \"new_taxdump.zip\" "
   ]
  },
  {
   "cell_type": "markdown",
   "id": "5c5172e6-4a52-43bf-89a7-74c2bfcc920e",
   "metadata": {
    "jp-MarkdownHeadingCollapsed": true,
    "tags": []
   },
   "source": [
    "This is the file name on the NCBI server, and should not be changed. If unexplainable errors occur, check if this file's name or location has changed on the NCBI server. "
   ]
  },
  {
   "cell_type": "code",
   "execution_count": null,
   "id": "04cf9587-0a58-4932-8953-52408003fbe3",
   "metadata": {},
   "outputs": [],
   "source": [
    "downloadDatabase(dbLocalDir, NCBIdbFile)"
   ]
  },
  {
   "cell_type": "markdown",
   "id": "bf293803-5c4d-42cf-be33-cb41147d968f",
   "metadata": {},
   "source": [
    "If the correct NCBI file is not in its place locally, this function removes the whole database folder and downloads everything from scratch from the NCBI server. The remove is done to avoid problems with old or incomplete files from previous downloads. If the correct file is in its place, the function will do nothing but display a message to the user that the needed file is already present.\n",
    "    \n",
    "Malware and trackers on the computer might cause corruption of downloaded files. If unexplainable errors occur in this step, try cleaning the computer of trackers and other things that might interfere with the download."
   ]
  },
  {
   "cell_type": "code",
   "execution_count": null,
   "id": "9b934d1b-f108-4927-825c-dedae1f7c61d",
   "metadata": {
    "tags": []
   },
   "outputs": [],
   "source": [
    "dataBase = buildDatabase(dbLocalDir)"
   ]
  },
  {
   "cell_type": "markdown",
   "id": "ec226328-3623-473f-bd04-8bb16cb2924c",
   "metadata": {},
   "source": [
    "Builds a python dictionary from the source file downloaded from NCBI. This is the most time-consuming step in the program and so is done before any analysis is started. Since the program is designed to be run as a jupyter notebook, this step only needs to be done once in each session. After the database is built, any number of files can be analysed quickly and efficiently. \n",
    "\n",
    "Avoid doing other things on the computer while building the database as this process is prone to hanging itself if too many things are happening at once. It should only take about 20 seconds to build the data base."
   ]
  },
  {
   "cell_type": "markdown",
   "id": "79d9bc46-4cb8-440e-886d-b901704a61c7",
   "metadata": {},
   "source": [
    "### Analysis"
   ]
  },
  {
   "cell_type": "code",
   "execution_count": null,
   "id": "307ea8e9-93ed-4653-abbc-537cc1f7ad09",
   "metadata": {},
   "outputs": [],
   "source": [
    "from krakViewClass import krakView"
   ]
  },
  {
   "cell_type": "markdown",
   "id": "5f50dd53-2a63-4afa-b809-1ad5d28afed1",
   "metadata": {},
   "source": [
    "This imports the class used to analyze kraken2 files."
   ]
  },
  {
   "cell_type": "markdown",
   "id": "b1308e74-f316-4f10-b649-ee4de959b440",
   "metadata": {},
   "source": [
    "The following is a demonstration of the various available methods on a few different datasets. On the first dataset, all methods are demonstrated, while in the other sets only the main visualizations are used. All functions are naturally available for every analysis."
   ]
  },
  {
   "cell_type": "markdown",
   "id": "b05b2d72-8e56-4fdb-9421-55ded02ad7b5",
   "metadata": {},
   "source": [
    "#### Creek water\n",
    "\n",
    "A metagenomic sample from creek water. \n",
    "\n",
    "Link to the entry in the NCBI Sequence Read Archive:\n",
    "\n",
    "https://trace.ncbi.nlm.nih.gov/Traces/?view=run_browser&acc=SRR21053861&display=metadata"
   ]
  },
  {
   "cell_type": "code",
   "execution_count": null,
   "id": "d40f47a8-5f48-4370-a258-662f9564bc12",
   "metadata": {},
   "outputs": [],
   "source": [
    "creekWater = krakView('creek_water.kraken2', pyDict = dataBase)"
   ]
  },
  {
   "cell_type": "markdown",
   "id": "43072fe0-3e88-4e01-9b64-40455a0f752a",
   "metadata": {},
   "source": [
    "Creates an object from a kraken2 txt file which can be used to produce the various plots. The variable name is the name you wish to give analysis, the filename is the .kraken2 file you want to display. Automatically removes unclassified entries. \n",
    "        \n",
    "pyDict = dataBase specifies the name of the dictionary dataBase used for the analysis. This is the dataBase built using the buildDatabase function, so it needs to have the same name as given when built."
   ]
  },
  {
   "cell_type": "code",
   "execution_count": null,
   "id": "c660ee33-9c2b-4f78-b504-99535199552e",
   "metadata": {},
   "outputs": [],
   "source": [
    "creekWater.sourceFile"
   ]
  },
  {
   "cell_type": "markdown",
   "id": "05a1f0f2-01e3-4e54-ba54-3f5a49022942",
   "metadata": {},
   "source": [
    "Displays the name of the file used for the analysis object."
   ]
  },
  {
   "cell_type": "code",
   "execution_count": null,
   "id": "9fc5f3f0-3b57-495b-afe4-1d8f6d751050",
   "metadata": {},
   "outputs": [],
   "source": [
    "creekWater.data"
   ]
  },
  {
   "cell_type": "markdown",
   "id": "d4fae721-01a2-4304-ace2-b161047d2163",
   "metadata": {},
   "source": [
    "Displays the raw data in the file."
   ]
  },
  {
   "cell_type": "code",
   "execution_count": null,
   "id": "15e3683a-385e-4978-ba64-cc5695932a5c",
   "metadata": {},
   "outputs": [],
   "source": [
    "print(creekWater.showFormat(n = 5))"
   ]
  },
  {
   "cell_type": "markdown",
   "id": "9e2770cf-c83d-401c-89da-956a91c8aae3",
   "metadata": {},
   "source": [
    "Displays the first n lines of the data in the file. Default is n = 5."
   ]
  },
  {
   "cell_type": "code",
   "execution_count": null,
   "id": "0e923aaa-ed8c-4512-abdf-d47fd3d9dc4b",
   "metadata": {},
   "outputs": [],
   "source": [
    "percentClassd = creekWater.percentClassified(output=1)"
   ]
  },
  {
   "cell_type": "markdown",
   "id": "3b3a37ae-66d3-4cc5-b809-a87006b7bdaa",
   "metadata": {},
   "source": [
    "Calculates the percentage of successfully classified entries in the kraken2 file. If this number is very low, there could have been problems with the sample or something could have gone wrong in the kraken analysis process.\n",
    "\n",
    "Output=1 displays a descriptive message with the percentage. Output=0 disables the message if the number is simply being stored in a variable for example."
   ]
  },
  {
   "cell_type": "code",
   "execution_count": null,
   "id": "548dc607-4b10-4f52-b921-ade37be3f7e6",
   "metadata": {},
   "outputs": [],
   "source": [
    "nrOfUniques = creekWater.numberUniqueIDs(output=1)"
   ]
  },
  {
   "cell_type": "markdown",
   "id": "cb25839e-efae-4d42-998e-de11cc5dd6a1",
   "metadata": {},
   "source": [
    "Returns the total number of unique taxonomy IDs found in the kraken2 file. \n",
    "\n",
    "Output=1 displays a descriptive message, output=0 disables it."
   ]
  },
  {
   "cell_type": "code",
   "execution_count": null,
   "id": "85be7898-3626-4e14-bb71-044960d4988d",
   "metadata": {},
   "outputs": [],
   "source": [
    "creekWater.countsDistribution()"
   ]
  },
  {
   "cell_type": "markdown",
   "id": "c0eaa189-0048-4a67-9412-467c45cc3ee1",
   "metadata": {},
   "source": [
    "Outputs a data frame with each count and the number of taxons that have that count. This can be used to get a sense of how to filter the data when producing plots."
   ]
  },
  {
   "cell_type": "code",
   "execution_count": null,
   "id": "07d66a5e-6d04-489d-8d6d-b0a92ab34079",
   "metadata": {},
   "outputs": [],
   "source": [
    "creekWater.showList(n = 25, filterCounts = 5)"
   ]
  },
  {
   "cell_type": "markdown",
   "id": "a8b9c3d9-897f-424f-a80c-74a56f0f05b7",
   "metadata": {},
   "source": [
    "This produces a list of the n taxons with the highest number of counts. The list shows the number of counts for each taxon, and the percent counts, meaning the proportion of counts for the specific taxon compared to the total number of counts.\n",
    "\n",
    "filterCounts is the specified minimum number of counts needed for a taxon to be included in the analysis. The distribution of counts can be seen using the .countDistribution method. The default value for filtering is 5. \n",
    "\n",
    "The messages \"x unique taxons found\" and \"y entries in total after adding parents to all\" mean that filtered by a specific count, x number of unique taxons were found and that after visualizeKraken2 added parents to all these, there are y entries in the analysis list."
   ]
  },
  {
   "cell_type": "code",
   "execution_count": null,
   "id": "c4687ffb-436c-4a2b-828d-ac09a96df806",
   "metadata": {},
   "outputs": [],
   "source": [
    "creekWater.showSunburst(filterCounts = 15, width = 1100, height = 700, title = \"Sunburst chart\")"
   ]
  },
  {
   "cell_type": "markdown",
   "id": "93936283-e86e-4be8-ae18-32a01489d18e",
   "metadata": {},
   "source": [
    "Produces a sunburst chart of the resluts, categorized by percent counts, meaning the number of counts corresponding to a certain taxon compared to the \n",
    "total number of counts. \n",
    "\n",
    "filterCounts is the specified minimum number of counts needed for a taxon to be included in the analysis. The distribution of counts can be seen using the .countDistribution method. The default value for filtering is 5. Some filtering is recommended,since the plots will be quite crowded if every taxon with a single count is included. Plotly can also run into probelms if the sets to display are too large. \n",
    ".showList can be used for an unfiltered overview.\n",
    "\n",
    "width, height can be used to change the size of the sunburst chart.\n",
    "\n",
    "title can be used to give the chart a specific title\n",
    "\n",
    "The messages \"x unique taxons found\" and \"y entries in total after adding parents to all\" mean that filtered by a specific count, x number of unique taxons were found and that after visualizeKraken2 added parents to all these, there are y entries in the list used to make the plot. "
   ]
  },
  {
   "cell_type": "code",
   "execution_count": null,
   "id": "2999142b-823d-4dca-87fc-999b14668287",
   "metadata": {},
   "outputs": [],
   "source": [
    "creekWater.showIcicle(filterCounts = 5, width = 900, height = 2000, title = 'Icicle chart')"
   ]
  },
  {
   "cell_type": "markdown",
   "id": "ca32aa1d-f3b4-4910-a8b4-c73de360f42e",
   "metadata": {},
   "source": [
    "Produces an icicle chart of the resluts, categorized by percent counts, meaning the number of counts corresponding to a certain taxon compared to the \n",
    "total number of counts. \n",
    "\n",
    "filterCounts is the specified minimum number of counts needed for a taxon to be included in the analysis. The distribution of counts can be seen using the .countDistribution method. The default value for filtering is 5. Some filtering is recommended, since the plots will be quite crowded if every taxon with a single count is included. Plotly can also run into probelms if the sets to display are too large. \n",
    ".showList can be used for an unfiltered overview.\n",
    "\n",
    "width, height can be used to change the size of the chart.\n",
    "\n",
    "title can be used to give the chart a specific title\n",
    "\n",
    "The messages \"x unique taxons found\" and \"y entries in total after adding parents to all\" mean that filtered by a specific count, x number of unique taxons were found and that after visualizeKraken2 added parents to all these, there are y entries in the list used to make the plot."
   ]
  },
  {
   "cell_type": "markdown",
   "id": "a97881dc-cbfa-407d-9c49-a4a83e3b2fe7",
   "metadata": {},
   "source": [
    "#### Raw sewage\n",
    "\n",
    "Another metagenomic sample from raw sewage.\n",
    "\n",
    "https://trace.ncbi.nlm.nih.gov/Traces/?view=run_browser&acc=SRR21844336&display=metadata"
   ]
  },
  {
   "cell_type": "code",
   "execution_count": null,
   "id": "3da2b165-8376-4250-ba6f-cbb9fdff8c7e",
   "metadata": {},
   "outputs": [],
   "source": [
    "sewage = krakView('raw_sewage.kraken2', pyDict = dataBase)"
   ]
  },
  {
   "cell_type": "code",
   "execution_count": null,
   "id": "ed097670-4b18-4d5f-8983-0ba7abceb674",
   "metadata": {},
   "outputs": [],
   "source": [
    "sewage.showList(21,5)"
   ]
  },
  {
   "cell_type": "code",
   "execution_count": null,
   "id": "60aa412b-68aa-477b-a771-f366a8675b48",
   "metadata": {},
   "outputs": [],
   "source": [
    "sewage.showSunburst(filterCounts=10)"
   ]
  },
  {
   "cell_type": "code",
   "execution_count": null,
   "id": "d68a6dd4-55c2-4719-971f-5721a37542af",
   "metadata": {},
   "outputs": [],
   "source": [
    "sewage.showIcicle(filterCounts = 1, height = 2800)"
   ]
  },
  {
   "cell_type": "markdown",
   "id": "8c2dd0bc-0264-44b5-9f53-d37c34dd647d",
   "metadata": {},
   "source": [
    "#### Fecal sample\n",
    "\n",
    "A metagenomic fecal sample from a human child.\n",
    "\n",
    "https://trace.ncbi.nlm.nih.gov/Traces/?view=run_browser&acc=SRR22035038&display=metadata"
   ]
  },
  {
   "cell_type": "code",
   "execution_count": null,
   "id": "f85e48ea-c1ec-4e11-8f70-a26bbb1504ef",
   "metadata": {},
   "outputs": [],
   "source": [
    "fecal = krakView('fecal.kraken2', pyDict = dataBase)"
   ]
  },
  {
   "cell_type": "code",
   "execution_count": null,
   "id": "8ebfd18c-50e1-48a7-b0ca-9b9c3a107f75",
   "metadata": {},
   "outputs": [],
   "source": [
    "fecal.showList(35,10)"
   ]
  },
  {
   "cell_type": "code",
   "execution_count": null,
   "id": "79420d95-eeb8-4544-ba89-4671cc920e8c",
   "metadata": {},
   "outputs": [],
   "source": [
    "fecal.showSunburst(filterCounts=25)"
   ]
  },
  {
   "cell_type": "code",
   "execution_count": null,
   "id": "3e23ab95-b258-4d00-898a-2f97233bf9d1",
   "metadata": {},
   "outputs": [],
   "source": [
    "fecal.showIcicle(4, height=1000)"
   ]
  },
  {
   "cell_type": "markdown",
   "id": "b7cf6f28-9754-4672-98b0-abe71af06017",
   "metadata": {},
   "source": [
    "#### Endotracheal sample\n",
    "\n",
    "Metagenomic sample from endotracheal aspirate from a patient with ventilator-associated pneumonia.\n",
    "\n",
    "https://trace.ncbi.nlm.nih.gov/Traces/?view=run_browser&acc=SRR22094267&display=metadata"
   ]
  },
  {
   "cell_type": "code",
   "execution_count": null,
   "id": "d27a0bfa-b92f-411e-8f20-d4cd25f1d49f",
   "metadata": {},
   "outputs": [],
   "source": [
    "endotrac = krakView('endotracheal.kraken2', pyDict = dataBase)"
   ]
  },
  {
   "cell_type": "code",
   "execution_count": null,
   "id": "fee01155-44d9-49ce-9e7e-a6787c60f593",
   "metadata": {},
   "outputs": [],
   "source": [
    "endotrac.showList(10,1)"
   ]
  },
  {
   "cell_type": "code",
   "execution_count": null,
   "id": "6a30b582-213d-4a0d-937b-90032e350bb2",
   "metadata": {},
   "outputs": [],
   "source": [
    "endotrac.showIcicle(filterCounts = 1, height = 2500)"
   ]
  },
  {
   "cell_type": "code",
   "execution_count": null,
   "id": "e12bbce2-d85e-4e05-a8b0-1daf31b59665",
   "metadata": {},
   "outputs": [],
   "source": []
  }
 ],
 "metadata": {
  "kernelspec": {
   "display_name": "Python 3 (ipykernel)",
   "language": "python",
   "name": "python3"
  },
  "language_info": {
   "codemirror_mode": {
    "name": "ipython",
    "version": 3
   },
   "file_extension": ".py",
   "mimetype": "text/x-python",
   "name": "python",
   "nbconvert_exporter": "python",
   "pygments_lexer": "ipython3",
   "version": "3.9.12"
  }
 },
 "nbformat": 4,
 "nbformat_minor": 5
}
